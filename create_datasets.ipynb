{
 "cells": [
  {
   "cell_type": "code",
   "execution_count": 2,
   "id": "4fd4ce15",
   "metadata": {},
   "outputs": [],
   "source": [
    "import json\n",
    "import shogi\n",
    "import cshogi\n",
    "import re\n",
    "import glob\n",
    "import time\n",
    "import datetime\n",
    "from tools.PatternFacter import Pattern\n",
    "from tools.createFormats import Formats\n",
    "from cshogi.usi import Engine\n",
    "from cshogi.cli import usi_info_to_score, usi_info_to_csa_comment, re_usi_info\n",
    "import configparser\n",
    "import sys\n"
   ]
  },
  {
   "cell_type": "code",
   "execution_count": 3,
   "id": "dbde9f31",
   "metadata": {},
   "outputs": [],
   "source": [
    "kif = \"kif_sjis\\eiou\\eiou202106220101.kif\"\n",
    "formats = Formats(kif)"
   ]
  },
  {
   "cell_type": "code",
   "execution_count": 4,
   "id": "9be913e9",
   "metadata": {},
   "outputs": [
    {
     "name": "stdout",
     "output_type": "stream",
     "text": [
      "\n",
      "      player1: 307\n",
      "      player2: 194\n",
      "      date: ['2021', '06', '22']\n",
      "      time: 87\n",
      "      kif: 87\n",
      "      score: 87\n",
      "      winner: 先手\n",
      "      \n"
     ]
    }
   ],
   "source": [
    "print(f\"\"\"\n",
    "      player1: {formats.player(mode=\"number\")[\"first\"]}\n",
    "      player2: {formats.player(mode=\"number\")[\"last\"]}\n",
    "      date: {formats.play_date()}\n",
    "      time: {len(formats.normalize_time())}\n",
    "      kif: {len(formats.kif2sfen())}\n",
    "      score: {len(formats.game_score())}\n",
    "      winner: {\"先手\" if formats.winner() else \"後手\"}\n",
    "      \"\"\")"
   ]
  },
  {
   "cell_type": "code",
   "execution_count": 5,
   "id": "c0b49d26",
   "metadata": {},
   "outputs": [],
   "source": [
    "all_data = []\n",
    "for  i in glob.glob(\"kif_sjis/*/*.kif\"):\n",
    "    formats = Formats(i)\n",
    "    data = {\n",
    "        \"先手\": formats.player(mode=\"number\")[\"first\"],\n",
    "        \"後手\": formats.player(mode=\"number\")[\"last\"],\n",
    "        \"対局日\": formats.play_date(),\n",
    "        \"時間推移\": formats.normalize_time(),\n",
    "        \"評価値\": formats.game_score(),\n",
    "        \"SFEN\": formats.kif2sfen(),\n",
    "        \"勝者\": \"先手\" if formats.winner() else \"後手\"\n",
    "    }\n",
    "    if formats.player()[\"first\"] == '齊藤優希' or formats.player()[\"last\"] == '齊藤優希':\n",
    "        print(i)\n",
    "    all_data.append(data)"
   ]
  },
  {
   "cell_type": "code",
   "execution_count": 6,
   "id": "6d92ef81",
   "metadata": {},
   "outputs": [],
   "source": [
    "players = []\n",
    "for i in all_data:\n",
    "    players.append(i[\"先手\"])\n",
    "    players.append(i[\"後手\"])\n",
    "#print(all_data)\n",
    "with open(\"./kif_data.json\", mode=\"w+\", encoding=\"utf-8\") as f:\n",
    "    json.dump(all_data, f, indent=2, ensure_ascii=False)"
   ]
  },
  {
   "cell_type": "code",
   "execution_count": null,
   "id": "7643f856",
   "metadata": {},
   "outputs": [],
   "source": []
  }
 ],
 "metadata": {
  "kernelspec": {
   "display_name": "Python 3",
   "language": "python",
   "name": "python3"
  },
  "language_info": {
   "codemirror_mode": {
    "name": "ipython",
    "version": 3
   },
   "file_extension": ".py",
   "mimetype": "text/x-python",
   "name": "python",
   "nbconvert_exporter": "python",
   "pygments_lexer": "ipython3",
   "version": "3.8.13"
  }
 },
 "nbformat": 4,
 "nbformat_minor": 5
}
